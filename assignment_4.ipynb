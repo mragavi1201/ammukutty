{
  "nbformat": 4,
  "nbformat_minor": 0,
  "metadata": {
    "colab": {
      "name": "assignment 4",
      "provenance": [],
      "authorship_tag": "ABX9TyMcoFVU81cBvUTVSINoCxIC",
      "include_colab_link": true
    },
    "kernelspec": {
      "name": "python3",
      "display_name": "Python 3"
    },
    "language_info": {
      "name": "python"
    }
  },
  "cells": [
    {
      "cell_type": "markdown",
      "metadata": {
        "id": "view-in-github",
        "colab_type": "text"
      },
      "source": [
        "<a href=\"https://colab.research.google.com/github/mragavi1201/ammukutty/blob/main/assignment_4.ipynb\" target=\"_parent\"><img src=\"https://colab.research.google.com/assets/colab-badge.svg\" alt=\"Open In Colab\"/></a>"
      ]
    },
    {
      "cell_type": "code",
      "metadata": {
        "colab": {
          "base_uri": "https://localhost:8080/"
        },
        "id": "JQfdl7qSbWKQ",
        "outputId": "d40cc60b-e6f3-412b-cb40-e1c0987ad65d"
      },
      "source": [
        "altitude= int(input(\"Hey pilot Enter your alutitude:\"))\n",
        "if altitude == 1000:\n",
        "    print(\"safe to land\")\n",
        "elif altitude < 1000 and altitude > 1000:\n",
        "    print(\"bring to 1000\")\n",
        "else:\n",
        "    print(\"trun around\")"
      ],
      "execution_count": 23,
      "outputs": [
        {
          "output_type": "stream",
          "text": [
            "Hey pilot Enter your alutitude:1000\n",
            "safe to land\n"
          ],
          "name": "stdout"
        }
      ]
    }
  ]
}