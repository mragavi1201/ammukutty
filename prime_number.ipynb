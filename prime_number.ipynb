{
  "nbformat": 4,
  "nbformat_minor": 0,
  "metadata": {
    "colab": {
      "name": "prime number",
      "provenance": [],
      "authorship_tag": "ABX9TyMjtfwGpP8bkyrlv6QzoAn6",
      "include_colab_link": true
    },
    "kernelspec": {
      "name": "python3",
      "display_name": "Python 3"
    },
    "language_info": {
      "name": "python"
    }
  },
  "cells": [
    {
      "cell_type": "markdown",
      "metadata": {
        "id": "view-in-github",
        "colab_type": "text"
      },
      "source": [
        "<a href=\"https://colab.research.google.com/github/mragavi1201/ammukutty/blob/main/prime_number.ipynb\" target=\"_parent\"><img src=\"https://colab.research.google.com/assets/colab-badge.svg\" alt=\"Open In Colab\"/></a>"
      ]
    },
    {
      "cell_type": "code",
      "metadata": {
        "colab": {
          "base_uri": "https://localhost:8080/"
        },
        "id": "oLmLJ9Sd80Wh",
        "outputId": "dc3af3a6-bae8-45c3-b453-e1819c0a3994"
      },
      "source": [
        "number=int(input(\"Enter a number:\"))\n",
        "if number >1:\n",
        "  for i in range(2,number):\n",
        "    if (number %i )==0:\n",
        "      print (number,\"is a prime number\")\n",
        "      break\n",
        "    else:\n",
        "        print(number,\"is not a prime number\")"
      ],
      "execution_count": 38,
      "outputs": [
        {
          "output_type": "stream",
          "text": [
            "Enter a number:12\n",
            "12 is a prime number\n"
          ],
          "name": "stdout"
        }
      ]
    }
  ]
}