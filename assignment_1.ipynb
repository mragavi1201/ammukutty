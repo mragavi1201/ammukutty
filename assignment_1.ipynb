{
  "nbformat": 4,
  "nbformat_minor": 0,
  "metadata": {
    "colab": {
      "name": "assignment 1",
      "provenance": [],
      "collapsed_sections": [],
      "include_colab_link": true
    },
    "kernelspec": {
      "display_name": "Python 3",
      "name": "python3"
    }
  },
  "cells": [
    {
      "cell_type": "markdown",
      "metadata": {
        "id": "view-in-github",
        "colab_type": "text"
      },
      "source": [
        "<a href=\"https://colab.research.google.com/github/mragavi1201/ammukutty/blob/main/assignment_1.ipynb\" target=\"_parent\"><img src=\"https://colab.research.google.com/assets/colab-badge.svg\" alt=\"Open In Colab\"/></a>"
      ]
    },
    {
      "cell_type": "code",
      "metadata": {
        "id": "zl8khLKycTvL",
        "colab": {
          "base_uri": "https://localhost:8080/"
        },
        "outputId": "d66d48c4-b550-4963-ff2a-1bf8a57b0e4e"
      },
      "source": [
        "import random\n",
        "people=[\"adhi\",\"akila\",\"mohan\",\"jaya\",\"ragahul\",\"devi\"]\n",
        "for n in people:\n",
        "  print(n)"
      ],
      "execution_count": null,
      "outputs": [
        {
          "output_type": "stream",
          "text": [
            "adhi\n",
            "akila\n",
            "mohan\n",
            "jaya\n",
            "ragahul\n",
            "devi\n"
          ],
          "name": "stdout"
        }
      ]
    }
  ]
}